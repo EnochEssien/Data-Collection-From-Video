{
  "nbformat": 4,
  "nbformat_minor": 0,
  "metadata": {
    "colab": {
      "provenance": []
    },
    "kernelspec": {
      "name": "python3",
      "display_name": "Python 3"
    },
    "language_info": {
      "name": "python"
    }
  },
  "cells": [
    {
      "cell_type": "markdown",
      "source": [
        "**Install and Import necessary libraries**"
      ],
      "metadata": {
        "id": "B8vT0ZZrjyQj"
      }
    },
    {
      "cell_type": "code",
      "execution_count": null,
      "metadata": {
        "id": "IQ5_8_hGGVlX"
      },
      "outputs": [],
      "source": [
        "!pip install opencv-python\n",
        "!pip install pandas\n",
        "!pip install numpy\n",
        "!pip install matplotlib\n",
        "import cv2\n",
        "import os\n",
        "import random\n",
        "import numpy as np\n",
        "from matplotlib import pyplot as plt\n",
        "import uuid\n",
        "from google.colab.patches import cv2_imshow\n",
        "from google.colab import drive"
      ]
    },
    {
      "cell_type": "markdown",
      "source": [
        "**Make new directories for captured pictures**"
      ],
      "metadata": {
        "id": "WFWK6Kf8j8Az"
      }
    },
    {
      "cell_type": "code",
      "source": [
        "drive.mount('/content/gdrive')\n",
        "%cd /content/gdrive/My Drive/Colab Notebooks/Data Collection\n",
        "\n",
        "#Directory for Positive Samples\n",
        "POS_PATH = os.path.join('data','positive')\n",
        "\n",
        "#Directory for Negative Samples\n",
        "NEG_PATH = os.path.join('data','negative')\n"
      ],
      "metadata": {
        "id": "ufUL-OLXH1Ak"
      },
      "execution_count": null,
      "outputs": []
    },
    {
      "cell_type": "markdown",
      "source": [
        "**Script for Capturing**"
      ],
      "metadata": {
        "id": "WFWK6Kf8j8Az"
      }
    },
    {
      "cell_type": "code",
      "source": [
        "cap = cv2.VideoCapture('Fela Kuti Test video.mp4')\n",
        "\n",
        "while(cap.isOpened()):\n",
        "    ret, frame = cap.read()\n",
        "    cv2.imshow('frame',frame)\n",
        "\n",
        "     # Collect Negative images\n",
        "    if cv2.waitKey(1) & 0xFF == ord('n'):\n",
        "      imgname = os.path.join(NEG_PATH, '{}.jpg'.format(uuid.uuid1()))\n",
        "      resizedNegative = cv2.resize(frame, (250, 250), interpolation = cv2.INTER_AREA)\n",
        "      cv2.imwrite(imgname, resizedNegative)\n",
        "\n",
        "    # Collect positive images\n",
        "    if cv2.waitKey(1) & 0xFF == ord('p'):\n",
        "      imgname = os.path.join(POS_PATH, '{}.jpg'.format(uuid.uuid1()))\n",
        "      resizedPositive = cv2.resize(frame, (250, 250), interpolation = cv2.INTER_AREA)\n",
        "      cv2.imwrite(imgname, resizedPositive)\n",
        "\n",
        "\n",
        "    if cv2.waitKey(1) & 0xFF == ord('q'):\n",
        "        break\n",
        "\n",
        "#Press the N key to capture negative samples from the video\n",
        "#Press the P key to capture positive samples from the video\n",
        "\n",
        "cap.release()\n",
        "cv2.destroyAllWindows()"
      ],
      "metadata": {
        "id": "9Ti2S_5rHWxR"
      },
      "execution_count": null,
      "outputs": []
    }
  ]
}
